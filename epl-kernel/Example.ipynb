{
 "cells": [
  {
   "cell_type": "code",
   "execution_count": 1,
   "metadata": {},
   "outputs": [
    {
     "data": {
      "text/html": [
       "<div class=\"krn-spql\"><div class=\"magic\">Logging set to DEBUG</div><div class=\"magic\">Server set to: http://10.79.11.134:8080</div></div>"
      ],
      "text/plain": [
       "Logging set to DEBUG\n",
       "Server set to: http://10.79.11.134:8080\n"
      ]
     },
     "metadata": {},
     "output_type": "display_data"
    }
   ],
   "source": [
    "%log debug\n",
    "%server http://10.79.11.134:8080"
   ]
  },
  {
   "cell_type": "code",
   "execution_count": 2,
   "metadata": {},
   "outputs": [
    {
     "data": {
      "text/html": [
       "<div class=\"krn-spql\"><div class=\"magic-help\">Available magics:<br/>%auth  %cep  %display  %log  %lsmagics  %outfile  %server  %show<br/><br/>%auth (basic|digest) &lt;username&gt; &lt;passwd&gt; : send HTTP authentication<br/>%cep &lt;name&gt; : set the CEP for that EPL query. **REQUIRED**<br/>%display raw | table [withtypes] | diagram [svg|png] [withliterals] : set display format<br/>%log critical | error | warning | info | debug : set logging level<br/>%lsmagics  : list all magics<br/>%outfile &lt;filename&gt; | NONE : save raw output to a file (use &quot;%d&quot; in name to add cell number, &quot;NONE&quot; to cancel saving)<br/>%server &lt;url&gt; : set the EPL Server. **REQUIRED**<br/>%show &lt;n&gt; | all : maximum number of shown results</div></div>"
      ],
      "text/plain": [
       "Available magics:\n",
       "%auth  %cep  %display  %log  %lsmagics  %outfile  %server  %show\n",
       "\n",
       "%auth (basic|digest) <username> <passwd> : send HTTP authentication\n",
       "%cep <name> : set the CEP for that EPL query. **REQUIRED**\n",
       "%display raw | table [withtypes] | diagram [svg|png] [withliterals] : set display format\n",
       "%log critical | error | warning | info | debug : set logging level\n",
       "%lsmagics  : list all magics\n",
       "%outfile <filename> | NONE : save raw output to a file (use \"%d\" in name to add cell number, \"NONE\" to cancel saving)\n",
       "%server <url> : set the EPL Server. **REQUIRED**\n",
       "%show <n> | all : maximum number of shown results\n"
      ]
     },
     "metadata": {},
     "output_type": "display_data"
    }
   ],
   "source": [
    "%lsmagics"
   ]
  },
  {
   "cell_type": "code",
   "execution_count": 3,
   "metadata": {},
   "outputs": [
    {
     "data": {
      "text/html": [
       "<div class=\"krn-spql\"><div class=\"magic\">Endpoint set to: brembo</div></div>"
      ],
      "text/plain": [
       "Endpoint set to: brembo\n"
      ]
     },
     "metadata": {},
     "output_type": "display_data"
    },
    {
     "data": {},
     "metadata": {},
     "output_type": "display_data"
    }
   ],
   "source": [
    "%cep brembo\n",
    "EPL QUERY"
   ]
  },
  {
   "cell_type": "code",
   "execution_count": 4,
   "metadata": {},
   "outputs": [
    {
     "data": {},
     "metadata": {},
     "output_type": "display_data"
    }
   ],
   "source": [
    "LIST STREAMS"
   ]
  },
  {
   "cell_type": "code",
   "execution_count": null,
   "metadata": {},
   "outputs": [],
   "source": []
  }
 ],
 "metadata": {
  "kernelspec": {
   "display_name": "EPL",
   "language": "epl",
   "name": "epl"
  },
  "language_info": {
   "codemirror_mode": {
    "name": "epl"
   },
   "mimetype": "application/json",
   "name": "epl",
   "pygments_lexer": "sparql-nb"
  }
 },
 "nbformat": 4,
 "nbformat_minor": 2
}
